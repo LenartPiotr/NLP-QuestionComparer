{
 "cells": [
  {
   "cell_type": "code",
   "execution_count": 1,
   "id": "38634444",
   "metadata": {},
   "outputs": [],
   "source": [
    "import numpy as np\n",
    "import pandas as pd\n",
    "import tensorflow as tf\n",
    "import tensorflow_hub as hub\n",
    "import re\n",
    "import string\n",
    "import nltk\n",
    "import pandas as pd\n",
    "import numpy as np\n",
    "from sklearn.model_selection import train_test_split\n",
    "import seaborn as sns\n",
    "import tensorflow as tf\n",
    "from tensorflow.keras.layers import *\n",
    "from tensorflow.keras.models import Sequential, Model\n",
    "from tensorflow.keras.regularizers import l2\n",
    "from tensorflow.keras.optimizers import Adam\n",
    "from tensorflow.keras import backend as K \n",
    "from tensorflow.keras.callbacks import EarlyStopping, ModelCheckpoint, LearningRateScheduler\n",
    "from tensorflow.keras.layers import GRU, Dropout, Reshape\n",
    "import matplotlib.pyplot as plt"
   ]
  },
  {
   "cell_type": "code",
   "execution_count": 2,
   "id": "6d158e86",
   "metadata": {},
   "outputs": [],
   "source": [
    "df_train = pd.read_csv(\"input/train.csv\")"
   ]
  },
  {
   "cell_type": "code",
   "execution_count": 3,
   "id": "82a84f07",
   "metadata": {},
   "outputs": [
    {
     "data": {
      "text/html": [
       "<div>\n",
       "<style scoped>\n",
       "    .dataframe tbody tr th:only-of-type {\n",
       "        vertical-align: middle;\n",
       "    }\n",
       "\n",
       "    .dataframe tbody tr th {\n",
       "        vertical-align: top;\n",
       "    }\n",
       "\n",
       "    .dataframe thead th {\n",
       "        text-align: right;\n",
       "    }\n",
       "</style>\n",
       "<table border=\"1\" class=\"dataframe\">\n",
       "  <thead>\n",
       "    <tr style=\"text-align: right;\">\n",
       "      <th></th>\n",
       "      <th>id</th>\n",
       "      <th>qid1</th>\n",
       "      <th>qid2</th>\n",
       "      <th>question1</th>\n",
       "      <th>question2</th>\n",
       "      <th>is_duplicate</th>\n",
       "    </tr>\n",
       "  </thead>\n",
       "  <tbody>\n",
       "    <tr>\n",
       "      <th>0</th>\n",
       "      <td>0</td>\n",
       "      <td>1</td>\n",
       "      <td>2</td>\n",
       "      <td>What is the step by step guide to invest in sh...</td>\n",
       "      <td>What is the step by step guide to invest in sh...</td>\n",
       "      <td>0</td>\n",
       "    </tr>\n",
       "    <tr>\n",
       "      <th>1</th>\n",
       "      <td>1</td>\n",
       "      <td>3</td>\n",
       "      <td>4</td>\n",
       "      <td>What is the story of Kohinoor (Koh-i-Noor) Dia...</td>\n",
       "      <td>What would happen if the Indian government sto...</td>\n",
       "      <td>0</td>\n",
       "    </tr>\n",
       "    <tr>\n",
       "      <th>2</th>\n",
       "      <td>2</td>\n",
       "      <td>5</td>\n",
       "      <td>6</td>\n",
       "      <td>How can I increase the speed of my internet co...</td>\n",
       "      <td>How can Internet speed be increased by hacking...</td>\n",
       "      <td>0</td>\n",
       "    </tr>\n",
       "    <tr>\n",
       "      <th>3</th>\n",
       "      <td>3</td>\n",
       "      <td>7</td>\n",
       "      <td>8</td>\n",
       "      <td>Why am I mentally very lonely? How can I solve...</td>\n",
       "      <td>Find the remainder when [math]23^{24}[/math] i...</td>\n",
       "      <td>0</td>\n",
       "    </tr>\n",
       "    <tr>\n",
       "      <th>4</th>\n",
       "      <td>4</td>\n",
       "      <td>9</td>\n",
       "      <td>10</td>\n",
       "      <td>Which one dissolve in water quikly sugar, salt...</td>\n",
       "      <td>Which fish would survive in salt water?</td>\n",
       "      <td>0</td>\n",
       "    </tr>\n",
       "  </tbody>\n",
       "</table>\n",
       "</div>"
      ],
      "text/plain": [
       "   id  qid1  qid2                                          question1  \\\n",
       "0   0     1     2  What is the step by step guide to invest in sh...   \n",
       "1   1     3     4  What is the story of Kohinoor (Koh-i-Noor) Dia...   \n",
       "2   2     5     6  How can I increase the speed of my internet co...   \n",
       "3   3     7     8  Why am I mentally very lonely? How can I solve...   \n",
       "4   4     9    10  Which one dissolve in water quikly sugar, salt...   \n",
       "\n",
       "                                           question2  is_duplicate  \n",
       "0  What is the step by step guide to invest in sh...             0  \n",
       "1  What would happen if the Indian government sto...             0  \n",
       "2  How can Internet speed be increased by hacking...             0  \n",
       "3  Find the remainder when [math]23^{24}[/math] i...             0  \n",
       "4            Which fish would survive in salt water?             0  "
      ]
     },
     "execution_count": 3,
     "metadata": {},
     "output_type": "execute_result"
    }
   ],
   "source": [
    "df_train.head(5)"
   ]
  },
  {
   "cell_type": "code",
   "execution_count": 4,
   "id": "5321847a",
   "metadata": {},
   "outputs": [],
   "source": [
    "df_train = df_train[df_train['question1'].apply(lambda x: isinstance(x, str))]\n",
    "df_train = df_train[df_train['question2'].apply(lambda x: isinstance(x, str))]"
   ]
  },
  {
   "cell_type": "code",
   "execution_count": 5,
   "id": "f192f425",
   "metadata": {},
   "outputs": [],
   "source": [
    "punctuation_pattern = f'([{string.punctuation}ââÂ¨ÂŤÂťÂŽÂ´ÂˇÂşÂ˝ÂžÂżÂĄÂ§ÂŁâ¤ââ])'\n",
    "re_tok = re.compile(punctuation_pattern)\n",
    "\n",
    "def tokenize(s): \n",
    "    return re_tok.sub(r' \\1 ', s).split()\n",
    "\n",
    "def clean_text(s):\n",
    "    try:\n",
    "        return re.sub(r'[^A-Za-z0-9,?\"\\'. ]+', '', s).lower()\n",
    "    except:\n",
    "        return \"\"\n",
    "\n",
    "stopwords = set(nltk.corpus.stopwords.words(\"english\"))\n",
    "\n",
    "df_train['question1'] = df_train['question1'].apply(lambda x: clean_text(x))\n",
    "df_train['question2'] = df_train['question2'].apply(lambda x: clean_text(x))"
   ]
  },
  {
   "cell_type": "code",
   "execution_count": 8,
   "id": "b1da8ac1",
   "metadata": {},
   "outputs": [],
   "source": [
    "def euc_dist(x, y):\n",
    "    return np.sqrt(np.dot((x-y), (x-y)))"
   ]
  },
  {
   "cell_type": "code",
   "execution_count": 9,
   "id": "ca42dffd",
   "metadata": {},
   "outputs": [],
   "source": [
    "X_train_q1 = df_train['question1'].tolist()\n",
    "X_train_q2 = df_train['question2'].tolist()\n",
    "y_train = (1-df_train['is_duplicate']).tolist()"
   ]
  },
  {
   "cell_type": "code",
   "execution_count": 10,
   "id": "ee51bed5",
   "metadata": {},
   "outputs": [],
   "source": [
    "X_train_q1, X_test_q1, X_train_q2, X_test_q2, y_train, y_test = train_test_split(X_train_q1, X_train_q2, y_train, test_size=0.2, random_state=42, stratify=y_train)"
   ]
  },
  {
   "cell_type": "code",
   "execution_count": null,
   "id": "e123371c",
   "metadata": {},
   "outputs": [],
   "source": [
    "embed = hub.KerasLayer(\"https://tfhub.dev/google/nnlm-en-dim128-with-normalization/2\", trainable=False)"
   ]
  },
  {
   "cell_type": "code",
   "execution_count": 29,
   "id": "f3d3ec90",
   "metadata": {},
   "outputs": [],
   "source": [
    "input1 = Input(shape=(), dtype=tf.string)\n",
    "input2 = Input(shape=(), dtype=tf.string)\n",
    "\n",
    "embed1 = embed(input1)\n",
    "embed2 = embed(input2)\n",
    "\n",
    "dist = Lambda(lambda x: K.sqrt(K.sum(K.square(x[0] - x[1]), axis=-1, keepdims=True)))([embed1,embed2])\n",
    "\n",
    "concat = Concatenate(axis=1)([dist])\n",
    "\n",
    "hidden = Dense(9, activation=\"relu\", kernel_regularizer=l2(1e-4))(concat)\n",
    "\n",
    "hidden1 = Dense(9, activation=\"relu\", kernel_regularizer=l2(1e-4))(hidden)\n",
    "\n",
    "hidden2 = Dense(9, activation=\"relu\", kernel_regularizer=l2(1e-4))(hidden1)\n",
    "\n",
    "hidden3 = Reshape((1, 9))(hidden2)\n",
    "\n",
    "gru = Bidirectional(GRU(units=32, return_sequences=False))(hidden3)\n",
    "\n",
    "dropout = Dropout(rate=0.5)(gru)\n",
    "\n",
    "out = Dense(1, activation=\"sigmoid\", kernel_regularizer=l2(1e-4))(dropout)\n",
    "model = Model(inputs=[input1, input2], outputs=out)"
   ]
  },
  {
   "cell_type": "code",
   "execution_count": 30,
   "id": "7f3c3db0",
   "metadata": {},
   "outputs": [
    {
     "name": "stdout",
     "output_type": "stream",
     "text": [
      "Model: \"model_3\"\n",
      "__________________________________________________________________________________________________\n",
      " Layer (type)                   Output Shape         Param #     Connected to                     \n",
      "==================================================================================================\n",
      " input_9 (InputLayer)           [(None,)]            0           []                               \n",
      "                                                                                                  \n",
      " input_10 (InputLayer)          [(None,)]            0           []                               \n",
      "                                                                                                  \n",
      " keras_layer (KerasLayer)       (None, 128)          124642688   ['input_9[0][0]',                \n",
      "                                                                  'input_10[0][0]']               \n",
      "                                                                                                  \n",
      " lambda_4 (Lambda)              (None, 1)            0           ['keras_layer[8][0]',            \n",
      "                                                                  'keras_layer[9][0]']            \n",
      "                                                                                                  \n",
      " concatenate_4 (Concatenate)    (None, 1)            0           ['lambda_4[0][0]']               \n",
      "                                                                                                  \n",
      " dense_16 (Dense)               (None, 9)            18          ['concatenate_4[0][0]']          \n",
      "                                                                                                  \n",
      " dense_17 (Dense)               (None, 9)            90          ['dense_16[0][0]']               \n",
      "                                                                                                  \n",
      " dense_18 (Dense)               (None, 9)            90          ['dense_17[0][0]']               \n",
      "                                                                                                  \n",
      " reshape_4 (Reshape)            (None, 1, 9)         0           ['dense_18[0][0]']               \n",
      "                                                                                                  \n",
      " bidirectional_4 (Bidirectional  (None, 64)          8256        ['reshape_4[0][0]']              \n",
      " )                                                                                                \n",
      "                                                                                                  \n",
      " dropout_4 (Dropout)            (None, 64)           0           ['bidirectional_4[0][0]']        \n",
      "                                                                                                  \n",
      " dense_19 (Dense)               (None, 1)            65          ['dropout_4[0][0]']              \n",
      "                                                                                                  \n",
      "==================================================================================================\n",
      "Total params: 124,651,207\n",
      "Trainable params: 8,519\n",
      "Non-trainable params: 124,642,688\n",
      "__________________________________________________________________________________________________\n"
     ]
    }
   ],
   "source": [
    "model.summary()"
   ]
  },
  {
   "cell_type": "code",
   "execution_count": 31,
   "id": "615e076d",
   "metadata": {},
   "outputs": [],
   "source": [
    "model.compile(optimizer=Adam(1e-3), loss=\"binary_crossentropy\", metrics=[\"accuracy\"])"
   ]
  },
  {
   "cell_type": "code",
   "execution_count": 32,
   "id": "1cebe12f",
   "metadata": {},
   "outputs": [],
   "source": [
    "def step_decay(epoch):\n",
    "    initial_lrate = 0.003\n",
    "    drop = 0.5\n",
    "    epochs_drop = 3\n",
    "    lrate = initial_lrate * (drop**((1 + epoch)/epochs_drop))\n",
    "    return lrate"
   ]
  },
  {
   "cell_type": "code",
   "execution_count": 33,
   "id": "5f227d7e",
   "metadata": {},
   "outputs": [
    {
     "name": "stdout",
     "output_type": "stream",
     "text": [
      "Epoch 1/5\n",
      "2521/2527 [============================>.] - ETA: 0s - loss: 0.5571 - accuracy: 0.6705\n",
      "Epoch 1: val_loss improved from inf to 0.55468, saving model to best_model.h5\n",
      "2527/2527 [==============================] - 20s 6ms/step - loss: 0.5571 - accuracy: 0.6705 - val_loss: 0.5547 - val_accuracy: 0.6679 - lr: 0.0024\n",
      "Epoch 2/5\n",
      "2520/2527 [============================>.] - ETA: 0s - loss: 0.5529 - accuracy: 0.6725\n",
      "Epoch 2: val_loss improved from 0.55468 to 0.55300, saving model to best_model.h5\n",
      "2527/2527 [==============================] - 15s 6ms/step - loss: 0.5529 - accuracy: 0.6725 - val_loss: 0.5530 - val_accuracy: 0.6685 - lr: 0.0019\n",
      "Epoch 3/5\n",
      "2517/2527 [============================>.] - ETA: 0s - loss: 0.5525 - accuracy: 0.6729\n",
      "Epoch 3: val_loss improved from 0.55300 to 0.55290, saving model to best_model.h5\n",
      "2527/2527 [==============================] - 15s 6ms/step - loss: 0.5524 - accuracy: 0.6729 - val_loss: 0.5529 - val_accuracy: 0.6680 - lr: 0.0015\n",
      "Epoch 4/5\n",
      "2517/2527 [============================>.] - ETA: 0s - loss: 0.5522 - accuracy: 0.6731\n",
      "Epoch 4: val_loss did not improve from 0.55290\n",
      "2527/2527 [==============================] - 15s 6ms/step - loss: 0.5522 - accuracy: 0.6731 - val_loss: 0.5536 - val_accuracy: 0.6667 - lr: 0.0012\n",
      "Epoch 5/5\n",
      "2521/2527 [============================>.] - ETA: 0s - loss: 0.5519 - accuracy: 0.6734\n",
      "Epoch 5: val_loss did not improve from 0.55290\n",
      "2527/2527 [==============================] - 15s 6ms/step - loss: 0.5519 - accuracy: 0.6734 - val_loss: 0.5531 - val_accuracy: 0.6685 - lr: 9.4494e-04\n"
     ]
    }
   ],
   "source": [
    "lrate_scheduler = LearningRateScheduler(step_decay)\n",
    "early_stop = EarlyStopping(monitor='val_loss', mode='min', verbose=1, patience=5)\n",
    "model_chkpoint = ModelCheckpoint('best_model.h5', monitor='val_loss', mode='min', verbose=1, save_best_only=True)\n",
    "\n",
    "callbacks = [lrate_scheduler, early_stop, model_chkpoint]\n",
    "\n",
    "history = model.fit(x=[np.array(X_train_q1), np.array(X_train_q2)],\n",
    "                    y=np.array(y_train),\n",
    "                    batch_size=128,\n",
    "                    epochs=5,\n",
    "                    validation_data=([np.array(X_test_q1), np.array(X_test_q2)], np.array(y_test)),\n",
    "                    callbacks=callbacks)"
   ]
  },
  {
   "cell_type": "code",
   "execution_count": 18,
   "id": "73a40841",
   "metadata": {},
   "outputs": [
    {
     "data": {
      "image/png": "[encoded data removed]",
      "text/plain": [
       "<Figure size 432x288 with 1 Axes>"
      ]
     },
     "metadata": {
      "needs_background": "light"
     },
     "output_type": "display_data"
    },
    {
     "data": {
      "image/png": "[encoded data removed]",
      "text/plain": [
       "<Figure size 432x288 with 1 Axes>"
      ]
     },
     "metadata": {
      "needs_background": "light"
     },
     "output_type": "display_data"
    }
   ],
   "source": [
    "loss = history.history['loss']\n",
    "val_loss = history.history['val_loss']\n",
    "acc = history.history['accuracy']\n",
    "val_acc = history.history['val_accuracy']\n",
    "\n",
    "plt.plot(loss, label='Training Loss')\n",
    "plt.plot(val_loss, label='Validation Loss')\n",
    "plt.xlabel('Epoch')\n",
    "plt.ylabel('Loss')\n",
    "plt.legend(loc='upper right')\n",
    "plt.show()\n",
    "\n",
    "plt.plot(acc, label='Training Accuracy')\n",
    "plt.plot(val_acc, label='Validation Accuracy')\n",
    "plt.xlabel('Epoch')\n",
    "plt.ylabel('Accuracy')\n",
    "plt.legend(loc='lower right')\n",
    "plt.show()"
   ]
  },
  {
   "cell_type": "code",
   "execution_count": null,
   "id": "89658512",
   "metadata": {},
   "outputs": [],
   "source": []
  }
 ],
 "metadata": {
  "kernelspec": {
   "display_name": "Python 3 (ipykernel)",
   "language": "python",
   "name": "python3"
  },
  "language_info": {
   "codemirror_mode": {
    "name": "ipython",
    "version": 3
   },
   "file_extension": ".py",
   "mimetype": "text/x-python",
   "name": "python",
   "nbconvert_exporter": "python",
   "pygments_lexer": "ipython3",
   "version": "3.10.4"
  }
 },
 "nbformat": 4,
 "nbformat_minor": 5
}