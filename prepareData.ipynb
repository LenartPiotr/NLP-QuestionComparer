{
 "cells": [
  {
   "cell_type": "code",
   "execution_count": 1,
   "metadata": {},
   "outputs": [],
   "source": [
    "from codes import *\n",
    "import numpy as np\n",
    "import joblib"
   ]
  },
  {
   "cell_type": "code",
   "execution_count": 55,
   "metadata": {},
   "outputs": [
    {
     "name": "stderr",
     "output_type": "stream",
     "text": [
      "[nltk_data] Downloading package wordnet to\n",
      "[nltk_data]     C:\\Users\\user\\AppData\\Roaming\\nltk_data...\n",
      "[nltk_data]   Package wordnet is already up-to-date!\n"
     ]
    },
    {
     "name": "stdout",
     "output_type": "stream",
     "text": [
      "Reading data\n",
      "Building corpus\n",
      "Tokenize\n"
     ]
    },
    {
     "name": "stderr",
     "output_type": "stream",
     "text": [
      "c:\\Users\\user\\AppData\\Local\\Programs\\Python\\Python311\\Lib\\site-packages\\sklearn\\feature_extraction\\text.py:525: UserWarning: The parameter 'token_pattern' will not be used since 'tokenizer' is not None'\n",
      "  warnings.warn(\n"
     ]
    },
    {
     "name": "stdout",
     "output_type": "stream",
     "text": [
      "Saving...\n"
     ]
    }
   ],
   "source": [
    "prepareCorpus(tolower=True, stemming=False, lemmatizing=True, dataFolder='./data/')"
   ]
  },
  {
   "cell_type": "code",
   "execution_count": 2,
   "metadata": {},
   "outputs": [
    {
     "name": "stdout",
     "output_type": "stream",
     "text": [
      "Reading tfidf model\n",
      "Preparing train and test data\n",
      "Training MultinomialNB model\n"
     ]
    },
    {
     "ename": "KeyboardInterrupt",
     "evalue": "",
     "output_type": "error",
     "traceback": [
      "\u001b[1;31m---------------------------------------------------------------------------\u001b[0m",
      "\u001b[1;31mKeyboardInterrupt\u001b[0m                         Traceback (most recent call last)",
      "\u001b[1;32md:\\Gry\\dokumenty\\Studia\\7sem\\pjn\\projekt\\prepareData.ipynb Cell 3\u001b[0m line \u001b[0;36m1\n\u001b[1;32m----> <a href='vscode-notebook-cell:/d%3A/Gry/dokumenty/Studia/7sem/pjn/projekt/prepareData.ipynb#X16sZmlsZQ%3D%3D?line=0'>1</a>\u001b[0m trainMultinomialNB(dataFolder\u001b[39m=\u001b[39;49m\u001b[39m'\u001b[39;49m\u001b[39m./data/\u001b[39;49m\u001b[39m'\u001b[39;49m)\n",
      "File \u001b[1;32md:\\Gry\\dokumenty\\Studia\\7sem\\pjn\\projekt\\codes\\trainModels.py:29\u001b[0m, in \u001b[0;36mtrainMultinomialNB\u001b[1;34m(dataFolder)\u001b[0m\n\u001b[0;32m     27\u001b[0m x_data \u001b[39m=\u001b[39m np\u001b[39m.\u001b[39marray([np\u001b[39m.\u001b[39mconcatenate([tfidfData[X_train[\u001b[39m'\u001b[39m\u001b[39mqid1\u001b[39m\u001b[39m'\u001b[39m]\u001b[39m.\u001b[39miloc[i] \u001b[39m-\u001b[39m \u001b[39m1\u001b[39m]\u001b[39m.\u001b[39mtoarray()[\u001b[39m0\u001b[39m], tfidfData[X_train[\u001b[39m'\u001b[39m\u001b[39mqid2\u001b[39m\u001b[39m'\u001b[39m]\u001b[39m.\u001b[39miloc[i] \u001b[39m-\u001b[39m \u001b[39m1\u001b[39m]\u001b[39m.\u001b[39mtoarray()[\u001b[39m0\u001b[39m]])])\n\u001b[0;32m     28\u001b[0m \u001b[39m# print(x_data.shape)\u001b[39;00m\n\u001b[1;32m---> 29\u001b[0m model\u001b[39m.\u001b[39;49mpartial_fit(x_data, [y_train[i]], classes\u001b[39m=\u001b[39;49mnp\u001b[39m.\u001b[39;49munique(y_train))\n\u001b[0;32m     30\u001b[0m percent \u001b[39m=\u001b[39m \u001b[39mround\u001b[39m(i \u001b[39m/\u001b[39m \u001b[39mlen\u001b[39m(X_train) \u001b[39m*\u001b[39m \u001b[39m100\u001b[39m)\n\u001b[0;32m     31\u001b[0m \u001b[39mif\u001b[39;00m percent \u001b[39m>\u001b[39m lastPercent:\n",
      "File \u001b[1;32mc:\\Users\\user\\AppData\\Local\\Programs\\Python\\Python311\\Lib\\site-packages\\sklearn\\base.py:1152\u001b[0m, in \u001b[0;36m_fit_context.<locals>.decorator.<locals>.wrapper\u001b[1;34m(estimator, *args, **kwargs)\u001b[0m\n\u001b[0;32m   1145\u001b[0m     estimator\u001b[39m.\u001b[39m_validate_params()\n\u001b[0;32m   1147\u001b[0m \u001b[39mwith\u001b[39;00m config_context(\n\u001b[0;32m   1148\u001b[0m     skip_parameter_validation\u001b[39m=\u001b[39m(\n\u001b[0;32m   1149\u001b[0m         prefer_skip_nested_validation \u001b[39mor\u001b[39;00m global_skip_validation\n\u001b[0;32m   1150\u001b[0m     )\n\u001b[0;32m   1151\u001b[0m ):\n\u001b[1;32m-> 1152\u001b[0m     \u001b[39mreturn\u001b[39;00m fit_method(estimator, \u001b[39m*\u001b[39;49margs, \u001b[39m*\u001b[39;49m\u001b[39m*\u001b[39;49mkwargs)\n",
      "File \u001b[1;32mc:\\Users\\user\\AppData\\Local\\Programs\\Python\\Python311\\Lib\\site-packages\\sklearn\\naive_bayes.py:720\u001b[0m, in \u001b[0;36m_BaseDiscreteNB.partial_fit\u001b[1;34m(self, X, y, classes, sample_weight)\u001b[0m\n\u001b[0;32m    715\u001b[0m \u001b[39m# XXX: OPTIM: we could introduce a public finalization method to\u001b[39;00m\n\u001b[0;32m    716\u001b[0m \u001b[39m# be called by the user explicitly just once after several consecutive\u001b[39;00m\n\u001b[0;32m    717\u001b[0m \u001b[39m# calls to partial_fit and prior any call to predict[_[log_]proba]\u001b[39;00m\n\u001b[0;32m    718\u001b[0m \u001b[39m# to avoid computing the smooth log probas at each call to partial fit\u001b[39;00m\n\u001b[0;32m    719\u001b[0m alpha \u001b[39m=\u001b[39m \u001b[39mself\u001b[39m\u001b[39m.\u001b[39m_check_alpha()\n\u001b[1;32m--> 720\u001b[0m \u001b[39mself\u001b[39;49m\u001b[39m.\u001b[39;49m_update_feature_log_prob(alpha)\n\u001b[0;32m    721\u001b[0m \u001b[39mself\u001b[39m\u001b[39m.\u001b[39m_update_class_log_prior(class_prior\u001b[39m=\u001b[39mclass_prior)\n\u001b[0;32m    722\u001b[0m \u001b[39mreturn\u001b[39;00m \u001b[39mself\u001b[39m\n",
      "File \u001b[1;32mc:\\Users\\user\\AppData\\Local\\Programs\\Python\\Python311\\Lib\\site-packages\\sklearn\\naive_bayes.py:903\u001b[0m, in \u001b[0;36mMultinomialNB._update_feature_log_prob\u001b[1;34m(self, alpha)\u001b[0m\n\u001b[0;32m    900\u001b[0m smoothed_fc \u001b[39m=\u001b[39m \u001b[39mself\u001b[39m\u001b[39m.\u001b[39mfeature_count_ \u001b[39m+\u001b[39m alpha\n\u001b[0;32m    901\u001b[0m smoothed_cc \u001b[39m=\u001b[39m smoothed_fc\u001b[39m.\u001b[39msum(axis\u001b[39m=\u001b[39m\u001b[39m1\u001b[39m)\n\u001b[1;32m--> 903\u001b[0m \u001b[39mself\u001b[39m\u001b[39m.\u001b[39mfeature_log_prob_ \u001b[39m=\u001b[39m np\u001b[39m.\u001b[39;49mlog(smoothed_fc) \u001b[39m-\u001b[39m np\u001b[39m.\u001b[39mlog(\n\u001b[0;32m    904\u001b[0m     smoothed_cc\u001b[39m.\u001b[39mreshape(\u001b[39m-\u001b[39m\u001b[39m1\u001b[39m, \u001b[39m1\u001b[39m)\n\u001b[0;32m    905\u001b[0m )\n",
      "\u001b[1;31mKeyboardInterrupt\u001b[0m: "
     ]
    }
   ],
   "source": [
    "trainMultinomialNB(dataFolder='./data/')"
   ]
  }
 ],
 "metadata": {
  "kernelspec": {
   "display_name": "Python 3",
   "language": "python",
   "name": "python3"
  },
  "language_info": {
   "codemirror_mode": {
    "name": "ipython",
    "version": 3
   },
   "file_extension": ".py",
   "mimetype": "text/x-python",
   "name": "python",
   "nbconvert_exporter": "python",
   "pygments_lexer": "ipython3",
   "version": "3.11.5"
  }
 },
 "nbformat": 4,
 "nbformat_minor": 2
}
