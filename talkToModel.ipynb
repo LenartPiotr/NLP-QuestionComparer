{
 "cells": [
  {
   "cell_type": "code",
   "execution_count": 18,
   "metadata": {},
   "outputs": [],
   "source": [
    "import joblib\n",
    "from scipy.sparse import hstack, vstack"
   ]
  },
  {
   "cell_type": "code",
   "execution_count": 72,
   "metadata": {},
   "outputs": [],
   "source": [
    "model = joblib.load('./data/model_ai.pkl')\n",
    "vectorizer = joblib.load('./data/TfidfVectorizer.pkl')"
   ]
  },
  {
   "cell_type": "code",
   "execution_count": 60,
   "metadata": {},
   "outputs": [
    {
     "name": "stdout",
     "output_type": "stream",
     "text": [
      "How are you feel?\n",
      "How are you?\n"
     ]
    }
   ],
   "source": [
    "try:\n",
    "    while(True):\n",
    "        q1 = input()\n",
    "        q2 = input()\n",
    "        if len(q1) == 0 or len(q2) == 0:\n",
    "            break\n",
    "        print(q1)\n",
    "        print(q2)\n",
    "        inp = hstack([vectorizer.transform([q1]), vectorizer.transform([q2])])\n",
    "        ans = model.predict(vstack([inp]))[0]\n",
    "        print('> Yes' if ans else '> No')\n",
    "except:\n",
    "    pass"
   ]
  },
  {
   "attachments": {},
   "cell_type": "markdown",
   "metadata": {},
   "source": [
    "How are you feel?\n",
    "\n",
    "How are you?\n",
    "\n",
    "> Yes\n",
    "\n",
    "What's this coin?\n",
    "\n",
    "What is color of this coin?\n",
    "\n",
    "> No\n",
    "\n",
    "Are you good with math?\n",
    "\n",
    "Are you a mathematician?\n",
    "\n",
    "> Yes\n",
    "\n",
    "Are you a mathematician?\n",
    "\n",
    "Are you a it programmer?\n",
    "\n",
    "> No"
   ]
  },
  {
   "cell_type": "code",
   "execution_count": 82,
   "metadata": {},
   "outputs": [
    {
     "name": "stdout",
     "output_type": "stream",
     "text": [
      "0.4720566 no\n",
      "0.17414595 no\n",
      "0.42563593 no\n",
      "0.40170047 no\n",
      "0.9820684 yes\n",
      "0.4552239 no\n",
      "0.53030336 yes\n",
      "0.53060853 yes\n"
     ]
    }
   ],
   "source": [
    "q = [\n",
    "    ['how are you feel?', 'How are you?'],\n",
    "    [\"What's this coin?\", \"What is color of this coin?\"],\n",
    "    ['Are you good with math?', \"Are you a mathematician?\"],\n",
    "    ['Are you a mathematician?', 'Are you a it programmer?'],\n",
    "    [\"What is purpose of life?\", \"What's the purpose of life? What is life actually about?\"],\n",
    "    ['Have you a computer mouse?', 'Have you a pet mouse at house?'],\n",
    "    ['Have you computer mouse?', 'Do you have a mouse to your computer?'],\n",
    "]\n",
    "for arr in q:\n",
    "    inp = hstack([vectorizer.transform([arr[0]]), vectorizer.transform([arr[1]])])\n",
    "    ans = model.predict(inp.todense(), verbose=0)\n",
    "    print(str(ans[0][0]) + ' ' + ('yes' if ans[0][0] > 0.5 else 'no'))"
   ]
  },
  {
   "cell_type": "code",
   "execution_count": null,
   "metadata": {},
   "outputs": [],
   "source": []
  }
 ],
 "metadata": {
  "kernelspec": {
   "display_name": "Python 3",
   "language": "python",
   "name": "python3"
  },
  "language_info": {
   "codemirror_mode": {
    "name": "ipython",
    "version": 3
   },
   "file_extension": ".py",
   "mimetype": "text/x-python",
   "name": "python",
   "nbconvert_exporter": "python",
   "pygments_lexer": "ipython3",
   "version": "3.10.6"
  },
  "orig_nbformat": 4
 },
 "nbformat": 4,
 "nbformat_minor": 2
}
