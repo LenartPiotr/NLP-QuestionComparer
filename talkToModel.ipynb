{
 "cells": [
  {
   "cell_type": "code",
   "execution_count": 18,
   "metadata": {},
   "outputs": [],
   "source": [
    "import joblib\n",
    "from scipy.sparse import hstack, vstack"
   ]
  },
  {
   "cell_type": "code",
   "execution_count": 4,
   "metadata": {},
   "outputs": [
    {
     "name": "stderr",
     "output_type": "stream",
     "text": [
      "[nltk_data] Downloading package wordnet to\n",
      "[nltk_data]     C:\\Users\\Piotr\\AppData\\Roaming\\nltk_data...\n",
      "[nltk_data]   Package wordnet is already up-to-date!\n"
     ]
    }
   ],
   "source": [
    "model = joblib.load('./data/LinearSVC.pkl')\n",
    "vectorizer = joblib.load('./data/TfidfVectorizer.pkl')"
   ]
  },
  {
   "cell_type": "code",
   "execution_count": 57,
   "metadata": {},
   "outputs": [
    {
     "name": "stdout",
     "output_type": "stream",
     "text": [
      "> Are you a mathematician?\n",
      "> Are you a it programmer?\n",
      "No\n"
     ]
    }
   ],
   "source": [
    "try:\n",
    "    while(True):\n",
    "        q1 = input()\n",
    "        q2 = input()\n",
    "        if len(q1) == 0 or len(q2) == 0:\n",
    "            break\n",
    "        print(q1)\n",
    "        print(q2)\n",
    "        inp = hstack([vectorizer.transform([q1]), vectorizer.transform([q2])])\n",
    "        ans = model.predict(vstack([inp]))[0]\n",
    "        print('> Yes' if ans else '> No')\n",
    "except:\n",
    "    pass"
   ]
  },
  {
   "attachments": {},
   "cell_type": "markdown",
   "metadata": {},
   "source": [
    "How are you feel?\n",
    "\n",
    "How are you?\n",
    "\n",
    "> Yes\n",
    "\n",
    "What's this coin?\n",
    "\n",
    "What is color of this coin?\n",
    "\n",
    "> No\n",
    "\n",
    "Are you good with math?\n",
    "\n",
    "Are you a mathematician?\n",
    "\n",
    "> Yes\n",
    "\n",
    "Are you a mathematician?\n",
    "\n",
    "Are you a it programmer?\n",
    "\n",
    "> No"
   ]
  }
 ],
 "metadata": {
  "kernelspec": {
   "display_name": "Python 3",
   "language": "python",
   "name": "python3"
  },
  "language_info": {
   "codemirror_mode": {
    "name": "ipython",
    "version": 3
   },
   "file_extension": ".py",
   "mimetype": "text/x-python",
   "name": "python",
   "nbconvert_exporter": "python",
   "pygments_lexer": "ipython3",
   "version": "3.10.6"
  },
  "orig_nbformat": 4
 },
 "nbformat": 4,
 "nbformat_minor": 2
}
